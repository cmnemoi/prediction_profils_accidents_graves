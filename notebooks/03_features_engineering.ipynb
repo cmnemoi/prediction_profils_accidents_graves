{
 "cells": [
  {
   "cell_type": "code",
   "execution_count": 1,
   "metadata": {},
   "outputs": [],
   "source": [
    "import pandas as pd"
   ]
  },
  {
   "cell_type": "code",
   "execution_count": 2,
   "metadata": {},
   "outputs": [],
   "source": [
    "dataset = pd.read_parquet(\"../data/cleaned/dataset_clean.parquet\")"
   ]
  },
  {
   "cell_type": "code",
   "execution_count": 3,
   "metadata": {},
   "outputs": [],
   "source": [
    "# Define the helper function\n",
    "def assign_feature(value, condition_func):\n",
    "    \"\"\"\n",
    "    Assigns 1 or 0 based on the condition_func.\n",
    "    If the value is None (NaN), returns None.\n",
    "    \"\"\"\n",
    "    if pd.isna(value):\n",
    "        return None\n",
    "    return 1 if condition_func(value) else 0\n",
    "\n",
    "dataset['date_accident'] =  pd.to_datetime(dataset['jour_accident'].astype(str) + '/' + dataset['mois_accident'].astype(str) + '/' + dataset['annee_accident'].astype(str), dayfirst=True)\n",
    "dataset['age'] = dataset.apply(\n",
    "    lambda row: row['date_accident'].year - row['annee_naissance'] \n",
    "    if (pd.notna(row['annee_naissance']))&(pd.notna(row['date_accident'])) \n",
    "    else None, axis=1\n",
    ").astype('Int64')\n",
    "\n",
    "dataset['accident_pendant_la_journee'] = dataset['heure_accident'].apply(lambda heure: 1 if (6 <= int(heure[:2]) < 18) else 0)\n",
    "\n",
    "dataset['limite_de_vitesse_elevee'] = dataset['vitesse_max_autorisee'].apply(lambda vma: assign_feature(vma, lambda x: x > 80))\n",
    "dataset['limite_de_vitesse_faible'] = dataset['vitesse_max_autorisee'].apply(lambda vma: assign_feature(vma, lambda x: x < 50 ))\n",
    "dataset['est_en_agglomeration'] = dataset['localisation'].apply(lambda agg: assign_feature(agg, lambda x: x == 2))\n",
    "dataset['est_une_route_principale'] = dataset['categorie_route'].apply(lambda cr: assign_feature(cr, lambda x: x not in [5, 6, 9]))  # (parking, voies prives, et autres))\n",
    "dataset['est_une_voie_a_sens_unique'] = dataset['regime_circulation'].apply(lambda sc: assign_feature(sc, lambda x: x == 1))\n",
    "dataset['est_une_route_etroite'] = dataset['larrout'].apply(lambda lc: assign_feature(lc, lambda x: x < 4))\n",
    "dataset['est_une_route_condition_normale'] = dataset['etat_surface'].apply(lambda es: assign_feature(es, lambda x: x == 1))\n",
    "\n",
    "dataset['est_un_vehicule_leger'] = dataset['categorie_vehicule'].apply(lambda cat: assign_feature(cat, lambda x: x in [2, 3, 4, 5, 6, 30, 31, 32, 34, 35, 36, 41, 42, 43]))  # (moto, scooter, etc))\n",
    "dataset['est_une_voiture_personelle'] = dataset['categorie_vehicule'].apply(lambda cat: assign_feature(cat, lambda x: x == 7))  # (voiture personelle))\n",
    "dataset['est_un_velo'] = dataset['categorie_vehicule'].apply(lambda cat: assign_feature(cat, lambda x: x == 1))  # (velo))\n",
    "dataset['est_un_vehicule_lourd'] = dataset['categorie_vehicule'].apply(lambda cat: assign_feature(cat, lambda x: x in [8, 9, 10, 11, 12, 13, 14, 15, 16, 17, 18, 19, 20, 21, 22, 37, 38, 39, 40]))  # (camion, bus, etc))\n",
    "\n",
    "# dataset['est_une_femme'] = dataset['sexe_usager'].apply(lambda sexe: assign_feature(sexe, lambda x: x == 2))\n",
    "dataset['jeune_conducteur'] = dataset['age'].apply(lambda age: assign_feature(age, lambda x: x <= 25))\n",
    "dataset['conducteur_vieux'] = dataset['age'].apply(lambda age: assign_feature(age, lambda x: x > 65))\n",
    "dataset['est_un_conducteur'] = dataset['categorie_usager'].apply(lambda qu: assign_feature(qu, lambda x: x == 1))  # (conducteur))\n",
    "dataset['est_equipe_securite'] = dataset['equipement_securite_1'].apply(lambda eq: assign_feature(eq, lambda x: x in [1, 2, 3, 4, 5, 6, 7]))  # (airbag etc...))\n",
    "dataset['est_equipe_securite_2'] = dataset['equipement_securite_2'].apply(lambda eq: assign_feature(eq, lambda x: x in [1, 2, 3, 4, 5, 6, 7]))\n",
    "dataset['est_un_vehicule_electrique'] = dataset['type_motorisation'].apply(lambda tm: assign_feature(tm, lambda x: x in [2, 3]))  # (electrique et hybride))\n",
    "dataset['est_un_vehicule_thermique'] = dataset['type_motorisation'].apply(lambda tm: assign_feature(tm, lambda x: x == 1))  # (essence et diesel))\n",
    "\n",
    "dataset['conditions_lumineuses_defavorables'] = dataset['conditions_lumieres'].apply(lambda cl: assign_feature(cl, lambda x: x != 1))  # (pendant la journée))\n",
    "dataset['conditions_meteorologiques_defavorables'] = dataset['conditions_atmospheriques'].apply(lambda cm: assign_feature(cm, lambda x: x not in [1, 2, 8]))  # (normal, pluie legere, temps couvert))\n",
    "dataset['a_hurte_un_obstacle_fixe'] = dataset['obstacle_fixe_heurte'].apply(lambda of: assign_feature(of, lambda x: x not in [0, -1]))\n",
    "dataset['a_hurte_un_obstacle_mobile'] = dataset['obstacle_mobile_heurte'].apply(lambda of: assign_feature(of, lambda x: x not in [0, -1]))\n",
    "\n",
    "def gestion_accident(blessure):\n",
    "    if pd.isna(blessure):\n",
    "        return None\n",
    "    elif blessure == 1:\n",
    "        return 0  # rien\n",
    "    elif blessure == 2:\n",
    "        return 10  # tué\n",
    "    elif blessure == 3:\n",
    "        return 5  # hospitalisé\n",
    "    elif blessure == 4:\n",
    "        return 1  # blessé léger\n",
    "    else:\n",
    "        return None  # For any other unexpected values\n",
    "\n",
    "dataset['cout_accident'] = dataset['gravite_blessure'].apply(gestion_accident)"
   ]
  },
  {
   "cell_type": "code",
   "execution_count": 4,
   "metadata": {},
   "outputs": [],
   "source": [
    "colones_a_garder = [\n",
    "    #identifiants\n",
    "    'identifiant_vehicule', 'numero_vehicule', 'numero_accident', 'identifiant_usager',\n",
    "    #usager\n",
    "    'conducteur_vieux', 'jeune_conducteur', 'est_une_femme', 'est_equipe_securite','est_equipe_securite_2','est_un_conducteur',\n",
    "    #lieux\n",
    "    'limite_de_vitesse_elevee','limite_de_vitesse_faible', 'est_une_route_principale' ,'est_en_agglomeration',\n",
    "    'conditions_lumineuses_defavorables','conditions_meteorologiques_defavorables', 'accident_pendant_la_journee',\n",
    "    'a_hurte_un_obstacle_fixe', 'a_hurte_un_obstacle_mobile', 'est_une_voie_a_sens_unique', 'est_une_route_etroite',\n",
    "    'est_une_route_condition_normale',\n",
    "    #vehicule\n",
    "    'est_un_vehicule_leger','est_une_voiture_personelle', 'est_un_velo','est_un_vehicule_lourd', \n",
    "    'est_un_vehicule_thermique', 'est_un_vehicule_electrique', \n",
    "    #target\n",
    "    'cout_accident'\n",
    "]\n",
    "\n",
    "\n",
    "colonnes_a_supprimer = [\n",
    "    #date de l'accident\n",
    "    'jour_accident', 'mois_accident', 'annee_accident', 'heure_accident','date_accident',\n",
    "     \n",
    "    #information converties en feature\n",
    "    'age', 'conditions_lumieres', 'localisation', 'vitesse_max_autorisee',\n",
    "    'conditions_atmospheriques', 'categorie_route', 'regime_circulation', \n",
    "    'sexe_usager', 'annee_naissance', 'obstacle_fixe_heurte', 'obstacle_mobile_heurte',\n",
    "    'categorie_vehicule', 'type_motorisation', 'categorie_usager', 'equipement_securite_1',\n",
    "    'equipement_securite_2', 'larrout', 'etat_surface','gravite_blessure',\n",
    "\n",
    "    #a traiter?\n",
    "    'nombre_voies', 'presence_voie_reservee', 'profil_route', \n",
    "    'numero_pr','distance_pr', 'tracage_route',  \n",
    "    'infrastructure', 'situation_accident',\n",
    "    'point_choc_initial', 'manoeuvre_avant_accident',\n",
    "    'place_occupant', 'motif_deplacement',\n",
    "    'localisation_pieton', 'action_pieton', 'etat_pieton'\n",
    "    'departement', 'type_intersection',\n",
    "\n",
    "    #a jeter\n",
    "    'sens_circulation','commune', 'equipement_securite_3', 'type_collision',\n",
    "]\n",
    "\n",
    "dataset = dataset[colones_a_garder]"
   ]
  },
  {
   "cell_type": "code",
   "execution_count": 5,
   "metadata": {},
   "outputs": [],
   "source": [
    "#il faut creer un jeu de donnes qui parle des clients de l'assurance => les conducteurs.\n",
    "#il faut un dataset qui aggrege les degats causés par un conducteur dans son accident.\n",
    "\n",
    "total_cost = dataset.groupby('numero_accident')['cout_accident'].sum().reset_index()\n",
    "total_cost = total_cost.rename(columns={'cout_accident': 'total_cout_accident'})\n",
    "\n",
    "drivers = dataset[dataset['est_un_conducteur'] == 1].copy()\n",
    "\n",
    "agg_data = drivers.merge(total_cost, on='numero_accident', how='left')"
   ]
  },
  {
   "cell_type": "code",
   "execution_count": 6,
   "metadata": {},
   "outputs": [
    {
     "data": {
      "text/plain": [
       "Index(['identifiant_vehicule', 'numero_vehicule', 'numero_accident',\n",
       "       'identifiant_usager', 'conducteur_vieux', 'jeune_conducteur',\n",
       "       'est_une_femme', 'est_equipe_securite', 'est_equipe_securite_2',\n",
       "       'est_un_conducteur', 'limite_de_vitesse_elevee',\n",
       "       'limite_de_vitesse_faible', 'est_une_route_principale',\n",
       "       'est_en_agglomeration', 'conditions_lumineuses_defavorables',\n",
       "       'conditions_meteorologiques_defavorables',\n",
       "       'accident_pendant_la_journee', 'a_hurte_un_obstacle_fixe',\n",
       "       'a_hurte_un_obstacle_mobile', 'est_une_voie_a_sens_unique',\n",
       "       'est_une_route_etroite', 'est_une_route_condition_normale',\n",
       "       'est_un_vehicule_leger', 'est_une_voiture_personelle', 'est_un_velo',\n",
       "       'est_un_vehicule_lourd', 'est_un_vehicule_thermique',\n",
       "       'est_un_vehicule_electrique', 'cout_accident', 'total_cout_accident'],\n",
       "      dtype='object')"
      ]
     },
     "execution_count": 6,
     "metadata": {},
     "output_type": "execute_result"
    }
   ],
   "source": [
    "agg_data.columns"
   ]
  },
  {
   "cell_type": "code",
   "execution_count": 7,
   "metadata": {},
   "outputs": [],
   "source": [
    "colonnes_a_sup = ['identifiant_vehicule', 'numero_vehicule','identifiant_usager', 'numero_accident']\n",
    "agg_data = agg_data.drop(columns=colonnes_a_sup)\n",
    "agg_data = agg_data.astype({col: 'category' for col in agg_data.columns if col not in ['cout_accident', 'total_cout_accident']})\n"
   ]
  },
  {
   "cell_type": "code",
   "execution_count": 8,
   "metadata": {},
   "outputs": [
    {
     "data": {
      "text/plain": [
       "(278935, 26)"
      ]
     },
     "execution_count": 8,
     "metadata": {},
     "output_type": "execute_result"
    }
   ],
   "source": [
    "agg_data.shape"
   ]
  },
  {
   "cell_type": "code",
   "execution_count": 9,
   "metadata": {},
   "outputs": [],
   "source": [
    "agg_data.to_parquet('../data/dataset_features.parquet') #pickle"
   ]
  }
 ],
 "metadata": {
  "kernelspec": {
   "display_name": "cyu",
   "language": "python",
   "name": "python3"
  },
  "language_info": {
   "codemirror_mode": {
    "name": "ipython",
    "version": 3
   },
   "file_extension": ".py",
   "mimetype": "text/x-python",
   "name": "python",
   "nbconvert_exporter": "python",
   "pygments_lexer": "ipython3",
   "version": "3.9.18"
  }
 },
 "nbformat": 4,
 "nbformat_minor": 2
}
