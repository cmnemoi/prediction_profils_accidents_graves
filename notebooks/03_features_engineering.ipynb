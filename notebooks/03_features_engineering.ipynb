{
 "cells": [
  {
   "cell_type": "code",
   "execution_count": 40,
   "metadata": {},
   "outputs": [],
   "source": [
    "import pandas as pd"
   ]
  },
  {
   "cell_type": "code",
   "execution_count": 41,
   "metadata": {},
   "outputs": [],
   "source": [
    "dataset = pd.read_pickle('../data/cleaned/dataset_clean.pkl')"
   "execution_count": 99,
   "metadata": {},
   "outputs": [],
   "source": [
    "dataset = pd.read_parquet(\"../data/cleaned/dataset_clean.parquet\")"
   ]
  },
  {
   "cell_type": "code",
   "execution_count": 78,
   "metadata": {},
   "outputs": [],
   "source": [
    "#creation de features sur la base des colonnes existantes\n",
    "\n",
    "dataset['date_accident'] =  pd.to_datetime(dataset['jour_accident'].astype(str) + '/' + dataset['mois_accident'].astype(str) + '/' + dataset['annee_accident'].astype(str), dayfirst=True)\n",
    "dataset['age'] = dataset.apply(\n",
    "    lambda row: row['date_accident'].year - row['annee_naissance'] \n",
    "    if (pd.notna(row['annee_naissance']))&(pd.notna(row['date_accident'])) \n",
    "    else None, axis=1\n",
    ").astype('Int64')\n",
    "\n",
    "def assign_feature(value, condition_func):\n",
    "    \"\"\"\n",
    "    Assigns 1 or 0 based on the condition_func.\n",
    "    If the value is None (NaN), returns None.\n",
    "    \"\"\"\n",
    "    if pd.isna(value):\n",
    "        return None\n",
    "    return 1 if condition_func(value) else 0\n",
    "\n",
    "dataset['accident_pendant_la_journee'] = dataset['heure_accident'].apply(lambda heure: 1 if (6 <= int(heure[:2]) < 18) else 0)\n",
    "\n",
    "dataset['limite_de_vitesse_elevee'] = dataset['vitesse_max_autorisee'].apply(lambda vma: assign_feature(vma, lambda x: x > 80))\n",
    "dataset['limite_de_vitesse_faible'] = dataset['vitesse_max_autorisee'].apply(lambda vma: assign_feature(vma, lambda x: x < 50 ))\n",
    "dataset['est_en_agglomeration'] = dataset['localisation'].apply(lambda agg: assign_feature(agg, lambda x: x == 2))\n",
    "dataset['est_une_route_principale'] = dataset['categorie_route'].apply(lambda cr: assign_feature(cr, lambda x: x not in [5, 6, 9]))  # (parking, voies prives, et autres))\n",
    "dataset['est_une_voie_a_sens_unique'] = dataset['regime_circulation'].apply(lambda sc: assign_feature(sc, lambda x: x == 1))\n",
    "dataset['est_une_route_etroite'] = dataset['larrout'].apply(lambda lc: assign_feature(lc, lambda x: x < 4))\n",
    "dataset['est_une_route_condition_normale'] = dataset['etat_surface'].apply(lambda es: assign_feature(es, lambda x: x == 1))\n",
    "\n",
    "dataset['est_un_vehicule_leger'] = dataset['categorie_vehicule'].apply(lambda cat: assign_feature(cat, lambda x: x in [2, 3, 4, 5, 6, 30, 31, 32, 34, 35, 36, 41, 42, 43]))  # (moto, scooter, etc))\n",
    "dataset['est_une_voiture_personelle'] = dataset['categorie_vehicule'].apply(lambda cat: assign_feature(cat, lambda x: x == 7))  # (voiture personelle))\n",
    "dataset['est_un_velo'] = dataset['categorie_vehicule'].apply(lambda cat: assign_feature(cat, lambda x: x == 1))  # (velo))\n",
    "dataset['est_un_vehicule_lourd'] = dataset['categorie_vehicule'].apply(lambda cat: assign_feature(cat, lambda x: x in [8, 9, 10, 11, 12, 13, 14, 15, 16, 17, 18, 19, 20, 21, 22, 37, 38, 39, 40]))  # (camion, bus, etc))\n",
    "\n",
    "# dataset['est_une_femme'] = dataset['sexe_usager'].apply(lambda sexe: assign_feature(sexe, lambda x: x == 2))\n",
    "dataset['jeune_conducteur'] = dataset['age'].apply(lambda age: assign_feature(age, lambda x: x <= 25))\n",
    "dataset['conducteur_vieux'] = dataset['age'].apply(lambda age: assign_feature(age, lambda x: x > 65))\n",
    "dataset['est_un_conducteur'] = dataset['categorie_usager'].apply(lambda qu: assign_feature(qu, lambda x: x == 1))  # (conducteur))\n",
    "dataset['est_equipe_securite'] = dataset['equipement_securite_1'].apply(lambda eq: assign_feature(eq, lambda x: x in [1, 2, 3, 4, 5, 6, 7]))  # (airbag etc...))\n",
    "dataset['est_equipe_securite_2'] = dataset['equipement_securite_2'].apply(lambda eq: assign_feature(eq, lambda x: x in [1, 2, 3, 4, 5, 6, 7]))\n",
    "dataset['est_equipe_securite_3'] = dataset['equipement_securite_3'].apply(lambda eq: assign_feature(eq, lambda x: x in [1, 2, 3, 4, 5, 6, 7]))\n",
    "dataset['est_un_vehicule_electrique'] = dataset['type_motorisation'].apply(lambda tm: assign_feature(tm, lambda x: x in [2, 3]))  # (electrique et hybride))\n",
    "dataset['est_un_vehicule_thermique'] = dataset['type_motorisation'].apply(lambda tm: assign_feature(tm, lambda x: x == 1))  # (essence et diesel))\n",
    "\n",
    "dataset['conditions_lumineuses_defavorables'] = dataset['conditions_lumieres'].apply(lambda cl: assign_feature(cl, lambda x: x != 1))  # (pendant la journée))\n",
    "dataset['conditions_meteorologiques_defavorables'] = dataset['conditions_atmospheriques'].apply(lambda cm: assign_feature(cm, lambda x: x not in [1, 2, 8]))  # (normal, pluie legere, temps couvert))\n",
    "dataset['a_hurte_un_obstacle_fixe'] = dataset['obstacle_fixe_heurte'].apply(lambda of: assign_feature(of, lambda x: x not in [0, -1]))\n",
    "dataset['a_hurte_un_obstacle_mobile'] = dataset['obstacle_mobile_heurte'].apply(lambda of: assign_feature(of, lambda x: x not in [0, -1]))"
   ]
  },
  {
   "cell_type": "code",
   "execution_count": 79,
   "metadata": {},
   "outputs": [],
   "source": [
    "departement_to_region_map = {\n",
    "    # Auvergne-Rhône-Alpes\n",
    "    '01': 1, '03': 1, '07': 1, '15': 1, '26': 1, '38': 1, '42': 1, '43': 1, '63': 1, '69': 1, '73': 1, '74': 1,\n",
    "    # Bourgogne-Franche-Comté\n",
    "    '21': 2, '25': 2, '39': 2, '58': 2, '70': 2, '71': 2, '89': 2, '90': 2,\n",
    "    # Bretagne\n",
    "    '22': 3, '29': 3, '35': 3, '56': 3,\n",
    "    # Centre-Val de Loire\n",
    "    '18': 4, '28': 4, '36': 4, '37': 4, '41': 4, '45': 4,\n",
    "    # Corse\n",
    "    '2A': 5, '2B': 5,\n",
    "    # Grand Est\n",
    "    '08': 6, '10': 6, '51': 6, '52': 6, '54': 6, '55': 6, '57': 6, '67': 6, '68': 6, '88': 6,\n",
    "    # Hauts-de-France\n",
    "    '02': 7, '59': 7, '60': 7, '62': 7, '80': 7,\n",
    "    # Île-de-France\n",
    "    '75': 8, '77': 8, '78': 8, '91': 8, '92': 8, '93': 8, '94': 8, '95': 8,\n",
    "    # Normandie\n",
    "    '14': 9, '27': 9, '50': 9, '61': 9, '76': 9,\n",
    "    # Nouvelle-Aquitaine\n",
    "    '16': 10, '17': 10, '19': 10, '23': 10, '24': 10, '33': 10, '40': 10, '47': 10, '64': 10, '79': 10, '86': 10, '87': 10,\n",
    "    # Occitanie\n",
    "    '09': 11, '11': 11, '12': 11, '30': 11, '31': 11, '32': 11, '34': 11, '46': 11, '48': 11, '65': 11, '66': 11, '81': 11, '82': 11,\n",
    "    # Pays de la Loire\n",
    "    '44': 12, '49': 12, '53': 12, '72': 12, '85': 12,\n",
    "    # Provence-Alpes-Côte d'Azur\n",
    "    '04': 13, '05': 13, '06': 13, '13': 13, '83': 13, '84': 13,\n",
    "    # Outre-Mer\n",
    "    '971': 14, '972': 14, '973': 14, '974': 14, '976': 14, '978': 14, '987': 14, '988': 14, '977': 14, '986': 14, '975': 14\n",
    "}\n",
    "\n",
    "def departement_to_region(departement_id: str) -> int:\n",
    "    departement_id = departement_id.upper()\n",
    "\n",
    "    if departement_id in departement_to_region_map:\n",
    "        return departement_to_region_map[departement_id]\n",
    "    else:\n",
    "        raise ValueError(f\"Departement '{departement_id}' inconnu.\")\n",
    "\n",
    "dataset['region'] = dataset['departement'].apply(departement_to_region)"
   ]
  },
  {
   "cell_type": "code",
   "execution_count": 83,
   "metadata": {},
   "outputs": [],
   "source": [
    "#definition de la target\n",
    "\n",
    "def gestion_accident(blessure):\n",
    "    if pd.isna(blessure):\n",
    "        return None\n",
    "    elif blessure == 1:\n",
    "        return 0  # rien\n",
    "    elif blessure == 2:\n",
    "        return 10  # tué\n",
    "    elif blessure == 3:\n",
    "        return 5  # hospitalisé\n",
    "    elif blessure == 4:\n",
    "        return 1  # blessé léger\n",
    "    else:\n",
    "        return None\n",
    "\n",
    "dataset['cout_accident'] = dataset['gravite_blessure'].apply(gestion_accident)\n",
    "\n",
    "#il faut creer un jeu de donnes qui parle des clients de l'assurance => les conducteurs.\n",
    "#il faut un dataset qui aggrege les degats causés par un conducteur dans son accident.\n",
    "\n",
    "total_cost = dataset.groupby('numero_accident')['cout_accident'].sum().reset_index()\n",
    "total_cost = total_cost.rename(columns={'cout_accident': 'total_cout_accident'})\n",
    "\n",
    "drivers = dataset[(dataset['est_un_conducteur'] == 1) & (dataset['est_une_voiture_personelle'] == 1)].copy()\n",
    "\n",
    "agg_data = drivers.merge(total_cost, on='numero_accident', how='left')\n",
    "\n",
    "agg_data['est_un_accident_grave'] = agg_data['total_cout_accident'].apply(lambda x: 1 if x >= 9 else 0)"
   ]
  },
  {
   "cell_type": "code",
   "execution_count": 84,
   "metadata": {},
   "outputs": [],
   "source": [
    "colones_a_garder = [\n",
    "    #usager\n",
    "    'conducteur_vieux', 'jeune_conducteur', 'est_equipe_securite','est_equipe_securite_2','est_equipe_securite_3',\n",
    "    #lieux\n",
    "    'limite_de_vitesse_elevee','limite_de_vitesse_faible', 'est_une_route_principale' ,'est_en_agglomeration',\n",
    "    'conditions_lumineuses_defavorables','conditions_meteorologiques_defavorables', 'accident_pendant_la_journee',\n",
    "    'a_hurte_un_obstacle_fixe', 'a_hurte_un_obstacle_mobile', 'est_une_voie_a_sens_unique', 'est_une_route_etroite',\n",
    "    'est_une_route_condition_normale', 'region',\n",
    "    #vehicule\n",
    "    'est_un_vehicule_thermique', 'est_un_vehicule_electrique', \n",
    "    #target\n",
    "    'est_un_accident_grave',\n",
    "]\n",
    "\n",
    "\n",
    "colonnes_a_supprimer = [\n",
    "    #identifiants\n",
    "    'identifiant_vehicule', 'numero_vehicule', 'numero_accident', 'identifiant_usager',\n",
    "\n",
    "    #date de l'accident\n",
    "    'jour_accident', 'mois_accident', 'annee_accident', 'heure_accident','date_accident',\n",
    "     \n",
    "    #information converties en feature\n",
    "    'age', 'conditions_lumieres', 'localisation', 'vitesse_max_autorisee',\n",
    "    'conditions_atmospheriques', 'categorie_route', 'regime_circulation', \n",
    "    'sexe_usager', 'annee_naissance', 'obstacle_fixe_heurte', 'obstacle_mobile_heurte',\n",
    "    'categorie_vehicule', 'type_motorisation', 'categorie_usager', 'equipement_securite_1',\n",
    "    'equipement_securite_2', 'larrout', 'etat_surface','gravite_blessure','departement', 'cout_accident',\n",
    "    'total_cout_accident',\n",
    "\n",
    "    #a traiter?\n",
    "    'nombre_voies', 'presence_voie_reservee', 'profil_route', \n",
    "    'numero_pr','distance_pr', 'tracage_route',  \n",
    "    'infrastructure', 'situation_accident',\n",
    "    'point_choc_initial', 'manoeuvre_avant_accident',\n",
    "    'place_occupant', 'motif_deplacement',\n",
    "    'localisation_pieton', 'action_pieton', 'etat_pieton'\n",
    "    'type_intersection',\n",
    "\n",
    "    #a jeter\n",
    "    'sens_circulation','commune', 'equipement_securite_3', 'type_collision', 'est_une_femme'\n",
    "\n",
    "    #on filtre sur les conducteurs de voiture personelle, features a explorer pour calculer le cout maybe?\n",
    "    'est_un_conducteur', 'est_une_voiture_personelle', 'est_un_vehicule_leger', 'est_un_velo','est_un_vehicule_lourd'\n",
    "]\n",
    "\n",
    "agg_data = agg_data[colones_a_garder]\n",
    "\n",
    "agg_data = pd.get_dummies(agg_data, columns=['region'])"
   ]
  },
  {
   "cell_type": "code",
   "execution_count": 85,
   "metadata": {},
   "outputs": [],
   "source": [
    "agg_data = agg_data.fillna(-1)\n",
    "agg_data = agg_data.astype({col: int for col in agg_data.columns})"
   ]
  },
  {
   "cell_type": "code",
   "execution_count": 86,
   "metadata": {},
   "outputs": [
    {
     "data": {
      "text/plain": [
       "Index(['conducteur_vieux', 'jeune_conducteur', 'est_equipe_securite',\n",
       "       'est_equipe_securite_2', 'est_equipe_securite_3',\n",
       "       'limite_de_vitesse_elevee', 'limite_de_vitesse_faible',\n",
       "       'est_une_route_principale', 'est_en_agglomeration',\n",
       "       'conditions_lumineuses_defavorables',\n",
       "       'conditions_meteorologiques_defavorables',\n",
       "       'accident_pendant_la_journee', 'a_hurte_un_obstacle_fixe',\n",
       "       'a_hurte_un_obstacle_mobile', 'est_une_voie_a_sens_unique',\n",
       "       'est_une_route_etroite', 'est_une_route_condition_normale',\n",
       "       'est_un_vehicule_thermique', 'est_un_vehicule_electrique',\n",
       "       'est_un_accident_grave', 'region_1', 'region_2', 'region_3', 'region_4',\n",
       "       'region_5', 'region_6', 'region_7', 'region_8', 'region_9', 'region_10',\n",
       "       'region_11', 'region_12', 'region_13', 'region_14'],\n",
       "      dtype='object')"
      ]
     },
     "execution_count": 86,
     "metadata": {},
     "output_type": "execute_result"
    }
   ],
   "source": [
    "agg_data.columns"
   ]
  },
  {
   "cell_type": "code",
   "execution_count": 87,
   "metadata": {},
   "outputs": [],
   "source": [
    "agg_data.to_pickle('../data/final/dataset_features.pkl')"
   ]
  }
 ],
 "metadata": {
  "kernelspec": {
   "display_name": "cyu",
   "language": "python",
   "name": "python3"
  },
  "language_info": {
   "codemirror_mode": {
    "name": "ipython",
    "version": 3
   },
   "file_extension": ".py",
   "mimetype": "text/x-python",
   "name": "python",
   "nbconvert_exporter": "python",
   "pygments_lexer": "ipython3",
   "version": "3.9.18"
  }
 },
 "nbformat": 4,
 "nbformat_minor": 2
}
